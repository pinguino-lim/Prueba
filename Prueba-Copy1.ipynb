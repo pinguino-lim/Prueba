{
 "cells": [
  {
   "cell_type": "code",
   "execution_count": 1,
   "metadata": {},
   "outputs": [
    {
     "data": {
      "text/html": [
       "<div>\n",
       "<style scoped>\n",
       "    .dataframe tbody tr th:only-of-type {\n",
       "        vertical-align: middle;\n",
       "    }\n",
       "\n",
       "    .dataframe tbody tr th {\n",
       "        vertical-align: top;\n",
       "    }\n",
       "\n",
       "    .dataframe thead th {\n",
       "        text-align: right;\n",
       "    }\n",
       "</style>\n",
       "<table border=\"1\" class=\"dataframe\">\n",
       "  <thead>\n",
       "    <tr style=\"text-align: right;\">\n",
       "      <th></th>\n",
       "      <th>ccaa</th>\n",
       "      <th>cpro</th>\n",
       "      <th>cmun</th>\n",
       "      <th>dist</th>\n",
       "      <th>secc</th>\n",
       "      <th>t1_1</th>\n",
       "      <th>t2_1</th>\n",
       "      <th>t2_2</th>\n",
       "      <th>t3_1</th>\n",
       "      <th>t3_2</th>\n",
       "      <th>...</th>\n",
       "      <th>t20_7</th>\n",
       "      <th>t20_8</th>\n",
       "      <th>t20_9</th>\n",
       "      <th>t21_1</th>\n",
       "      <th>t22_1</th>\n",
       "      <th>t22_2</th>\n",
       "      <th>t22_3</th>\n",
       "      <th>t22_4</th>\n",
       "      <th>t22_5</th>\n",
       "      <th>t22_6</th>\n",
       "    </tr>\n",
       "  </thead>\n",
       "  <tbody>\n",
       "    <tr>\n",
       "      <th>count</th>\n",
       "      <td>35917.000000</td>\n",
       "      <td>35917.000000</td>\n",
       "      <td>35917.000000</td>\n",
       "      <td>35917.000000</td>\n",
       "      <td>35917.000000</td>\n",
       "      <td>35917.000000</td>\n",
       "      <td>35826.000000</td>\n",
       "      <td>35816.000000</td>\n",
       "      <td>35676.000000</td>\n",
       "      <td>35806.000000</td>\n",
       "      <td>...</td>\n",
       "      <td>16334.000000</td>\n",
       "      <td>14841.000000</td>\n",
       "      <td>14887.000000</td>\n",
       "      <td>35786.000000</td>\n",
       "      <td>31918.000000</td>\n",
       "      <td>33805.000000</td>\n",
       "      <td>30833.000000</td>\n",
       "      <td>29250.000000</td>\n",
       "      <td>26156.000000</td>\n",
       "      <td>26098.000000</td>\n",
       "    </tr>\n",
       "    <tr>\n",
       "      <th>mean</th>\n",
       "      <td>8.268146</td>\n",
       "      <td>25.538408</td>\n",
       "      <td>97.841273</td>\n",
       "      <td>3.272740</td>\n",
       "      <td>14.278392</td>\n",
       "      <td>1296.745274</td>\n",
       "      <td>642.189471</td>\n",
       "      <td>657.717082</td>\n",
       "      <td>209.894187</td>\n",
       "      <td>869.828939</td>\n",
       "      <td>...</td>\n",
       "      <td>38.395066</td>\n",
       "      <td>16.455764</td>\n",
       "      <td>13.995768</td>\n",
       "      <td>505.082295</td>\n",
       "      <td>126.271383</td>\n",
       "      <td>158.193758</td>\n",
       "      <td>120.437356</td>\n",
       "      <td>106.430769</td>\n",
       "      <td>26.762884</td>\n",
       "      <td>9.614338</td>\n",
       "    </tr>\n",
       "    <tr>\n",
       "      <th>std</th>\n",
       "      <td>4.639146</td>\n",
       "      <td>14.378958</td>\n",
       "      <td>120.117956</td>\n",
       "      <td>3.412732</td>\n",
       "      <td>25.680542</td>\n",
       "      <td>735.309526</td>\n",
       "      <td>376.022820</td>\n",
       "      <td>368.750039</td>\n",
       "      <td>175.548832</td>\n",
       "      <td>523.586709</td>\n",
       "      <td>...</td>\n",
       "      <td>37.585350</td>\n",
       "      <td>21.606118</td>\n",
       "      <td>21.608045</td>\n",
       "      <td>280.642805</td>\n",
       "      <td>85.974253</td>\n",
       "      <td>102.431828</td>\n",
       "      <td>71.944907</td>\n",
       "      <td>69.697412</td>\n",
       "      <td>27.941628</td>\n",
       "      <td>19.605248</td>\n",
       "    </tr>\n",
       "    <tr>\n",
       "      <th>min</th>\n",
       "      <td>1.000000</td>\n",
       "      <td>1.000000</td>\n",
       "      <td>1.000000</td>\n",
       "      <td>1.000000</td>\n",
       "      <td>1.000000</td>\n",
       "      <td>0.000000</td>\n",
       "      <td>5.000000</td>\n",
       "      <td>0.000000</td>\n",
       "      <td>0.000000</td>\n",
       "      <td>5.000000</td>\n",
       "      <td>...</td>\n",
       "      <td>0.000000</td>\n",
       "      <td>0.000000</td>\n",
       "      <td>0.000000</td>\n",
       "      <td>5.000000</td>\n",
       "      <td>0.000000</td>\n",
       "      <td>5.000000</td>\n",
       "      <td>0.000000</td>\n",
       "      <td>0.000000</td>\n",
       "      <td>0.000000</td>\n",
       "      <td>0.000000</td>\n",
       "    </tr>\n",
       "    <tr>\n",
       "      <th>25%</th>\n",
       "      <td>5.000000</td>\n",
       "      <td>11.000000</td>\n",
       "      <td>28.000000</td>\n",
       "      <td>1.000000</td>\n",
       "      <td>1.000000</td>\n",
       "      <td>825.000000</td>\n",
       "      <td>395.000000</td>\n",
       "      <td>420.000000</td>\n",
       "      <td>85.000000</td>\n",
       "      <td>520.000000</td>\n",
       "      <td>...</td>\n",
       "      <td>10.000000</td>\n",
       "      <td>0.000000</td>\n",
       "      <td>0.000000</td>\n",
       "      <td>330.000000</td>\n",
       "      <td>70.000000</td>\n",
       "      <td>95.000000</td>\n",
       "      <td>70.000000</td>\n",
       "      <td>60.000000</td>\n",
       "      <td>10.000000</td>\n",
       "      <td>0.000000</td>\n",
       "    </tr>\n",
       "    <tr>\n",
       "      <th>50%</th>\n",
       "      <td>9.000000</td>\n",
       "      <td>28.000000</td>\n",
       "      <td>69.000000</td>\n",
       "      <td>2.000000</td>\n",
       "      <td>4.000000</td>\n",
       "      <td>1225.000000</td>\n",
       "      <td>595.000000</td>\n",
       "      <td>630.000000</td>\n",
       "      <td>170.000000</td>\n",
       "      <td>810.000000</td>\n",
       "      <td>...</td>\n",
       "      <td>30.000000</td>\n",
       "      <td>10.000000</td>\n",
       "      <td>10.000000</td>\n",
       "      <td>480.000000</td>\n",
       "      <td>110.000000</td>\n",
       "      <td>145.000000</td>\n",
       "      <td>110.000000</td>\n",
       "      <td>95.000000</td>\n",
       "      <td>20.000000</td>\n",
       "      <td>0.000000</td>\n",
       "    </tr>\n",
       "    <tr>\n",
       "      <th>75%</th>\n",
       "      <td>12.000000</td>\n",
       "      <td>37.000000</td>\n",
       "      <td>122.000000</td>\n",
       "      <td>4.000000</td>\n",
       "      <td>15.000000</td>\n",
       "      <td>1700.000000</td>\n",
       "      <td>840.000000</td>\n",
       "      <td>865.000000</td>\n",
       "      <td>290.000000</td>\n",
       "      <td>1160.000000</td>\n",
       "      <td>...</td>\n",
       "      <td>55.000000</td>\n",
       "      <td>25.000000</td>\n",
       "      <td>20.000000</td>\n",
       "      <td>655.000000</td>\n",
       "      <td>165.000000</td>\n",
       "      <td>205.000000</td>\n",
       "      <td>160.000000</td>\n",
       "      <td>145.000000</td>\n",
       "      <td>40.000000</td>\n",
       "      <td>10.000000</td>\n",
       "    </tr>\n",
       "    <tr>\n",
       "      <th>max</th>\n",
       "      <td>19.000000</td>\n",
       "      <td>52.000000</td>\n",
       "      <td>915.000000</td>\n",
       "      <td>21.000000</td>\n",
       "      <td>220.000000</td>\n",
       "      <td>13070.000000</td>\n",
       "      <td>6865.000000</td>\n",
       "      <td>6205.000000</td>\n",
       "      <td>2915.000000</td>\n",
       "      <td>7420.000000</td>\n",
       "      <td>...</td>\n",
       "      <td>570.000000</td>\n",
       "      <td>315.000000</td>\n",
       "      <td>420.000000</td>\n",
       "      <td>6720.000000</td>\n",
       "      <td>1980.000000</td>\n",
       "      <td>4090.000000</td>\n",
       "      <td>995.000000</td>\n",
       "      <td>970.000000</td>\n",
       "      <td>395.000000</td>\n",
       "      <td>415.000000</td>\n",
       "    </tr>\n",
       "  </tbody>\n",
       "</table>\n",
       "<p>8 rows × 150 columns</p>\n",
       "</div>"
      ],
      "text/plain": [
       "               ccaa          cpro          cmun          dist          secc  \\\n",
       "count  35917.000000  35917.000000  35917.000000  35917.000000  35917.000000   \n",
       "mean       8.268146     25.538408     97.841273      3.272740     14.278392   \n",
       "std        4.639146     14.378958    120.117956      3.412732     25.680542   \n",
       "min        1.000000      1.000000      1.000000      1.000000      1.000000   \n",
       "25%        5.000000     11.000000     28.000000      1.000000      1.000000   \n",
       "50%        9.000000     28.000000     69.000000      2.000000      4.000000   \n",
       "75%       12.000000     37.000000    122.000000      4.000000     15.000000   \n",
       "max       19.000000     52.000000    915.000000     21.000000    220.000000   \n",
       "\n",
       "               t1_1          t2_1          t2_2          t3_1          t3_2  \\\n",
       "count  35917.000000  35826.000000  35816.000000  35676.000000  35806.000000   \n",
       "mean    1296.745274    642.189471    657.717082    209.894187    869.828939   \n",
       "std      735.309526    376.022820    368.750039    175.548832    523.586709   \n",
       "min        0.000000      5.000000      0.000000      0.000000      5.000000   \n",
       "25%      825.000000    395.000000    420.000000     85.000000    520.000000   \n",
       "50%     1225.000000    595.000000    630.000000    170.000000    810.000000   \n",
       "75%     1700.000000    840.000000    865.000000    290.000000   1160.000000   \n",
       "max    13070.000000   6865.000000   6205.000000   2915.000000   7420.000000   \n",
       "\n",
       "           ...              t20_7         t20_8         t20_9         t21_1  \\\n",
       "count      ...       16334.000000  14841.000000  14887.000000  35786.000000   \n",
       "mean       ...          38.395066     16.455764     13.995768    505.082295   \n",
       "std        ...          37.585350     21.606118     21.608045    280.642805   \n",
       "min        ...           0.000000      0.000000      0.000000      5.000000   \n",
       "25%        ...          10.000000      0.000000      0.000000    330.000000   \n",
       "50%        ...          30.000000     10.000000     10.000000    480.000000   \n",
       "75%        ...          55.000000     25.000000     20.000000    655.000000   \n",
       "max        ...         570.000000    315.000000    420.000000   6720.000000   \n",
       "\n",
       "              t22_1         t22_2         t22_3         t22_4         t22_5  \\\n",
       "count  31918.000000  33805.000000  30833.000000  29250.000000  26156.000000   \n",
       "mean     126.271383    158.193758    120.437356    106.430769     26.762884   \n",
       "std       85.974253    102.431828     71.944907     69.697412     27.941628   \n",
       "min        0.000000      5.000000      0.000000      0.000000      0.000000   \n",
       "25%       70.000000     95.000000     70.000000     60.000000     10.000000   \n",
       "50%      110.000000    145.000000    110.000000     95.000000     20.000000   \n",
       "75%      165.000000    205.000000    160.000000    145.000000     40.000000   \n",
       "max     1980.000000   4090.000000    995.000000    970.000000    395.000000   \n",
       "\n",
       "              t22_6  \n",
       "count  26098.000000  \n",
       "mean       9.614338  \n",
       "std       19.605248  \n",
       "min        0.000000  \n",
       "25%        0.000000  \n",
       "50%        0.000000  \n",
       "75%       10.000000  \n",
       "max      415.000000  \n",
       "\n",
       "[8 rows x 150 columns]"
      ]
     },
     "execution_count": 1,
     "metadata": {},
     "output_type": "execute_result"
    }
   ],
   "source": [
    "import pandas as pd\n",
    "import glob, os\n",
    "\n",
    "\n",
    "path =\"/Users/hyelimpark/Dropbox/carto/indicadores_seccion_censal_csv\" # use a path\n",
    "allFiles = glob.glob(path + \"/*.csv\") # if there are more than one file\n",
    "\n",
    "frame = pd.DataFrame() # data frame form\n",
    "list_ = [] \n",
    "for file_ in allFiles: \n",
    "    df = pd.read_csv(file_,index_col=None, header=0)\n",
    "    list_.append(df)\n",
    "frame = pd.concat(list_)\n",
    "\n",
    "\n",
    "frame.describe() # To describe the resume of dataframe"
   ]
  },
  {
   "cell_type": "code",
   "execution_count": 4,
   "metadata": {},
   "outputs": [
    {
     "data": {
      "text/html": [
       "<table class=\"simpletable\">\n",
       "<caption>OLS Regression Results</caption>\n",
       "<tr>\n",
       "  <th>Dep. Variable:</th>          <td>t1_1</td>       <th>  R-squared:         </th>  <td>   0.003</td>  \n",
       "</tr>\n",
       "<tr>\n",
       "  <th>Model:</th>                   <td>OLS</td>       <th>  Adj. R-squared:    </th>  <td>   0.003</td>  \n",
       "</tr>\n",
       "<tr>\n",
       "  <th>Method:</th>             <td>Least Squares</td>  <th>  F-statistic:       </th>  <td>   91.75</td>  \n",
       "</tr>\n",
       "<tr>\n",
       "  <th>Date:</th>             <td>Tue, 15 May 2018</td> <th>  Prob (F-statistic):</th>  <td>1.04e-21</td>  \n",
       "</tr>\n",
       "<tr>\n",
       "  <th>Time:</th>                 <td>19:25:30</td>     <th>  Log-Likelihood:    </th> <td>-2.8798e+05</td>\n",
       "</tr>\n",
       "<tr>\n",
       "  <th>No. Observations:</th>      <td> 35917</td>      <th>  AIC:               </th>  <td>5.760e+05</td> \n",
       "</tr>\n",
       "<tr>\n",
       "  <th>Df Residuals:</th>          <td> 35915</td>      <th>  BIC:               </th>  <td>5.760e+05</td> \n",
       "</tr>\n",
       "<tr>\n",
       "  <th>Df Model:</th>              <td>     1</td>      <th>                     </th>      <td> </td>     \n",
       "</tr>\n",
       "<tr>\n",
       "  <th>Covariance Type:</th>      <td>nonrobust</td>    <th>                     </th>      <td> </td>     \n",
       "</tr>\n",
       "</table>\n",
       "<table class=\"simpletable\">\n",
       "<tr>\n",
       "    <td></td>       <th>coef</th>     <th>std err</th>      <th>t</th>      <th>P>|t|</th>  <th>[0.025</th>    <th>0.975]</th>  \n",
       "</tr>\n",
       "<tr>\n",
       "  <th>const</th> <td> 1326.9790</td> <td>    4.998</td> <td>  265.510</td> <td> 0.000</td> <td> 1317.183</td> <td> 1336.775</td>\n",
       "</tr>\n",
       "<tr>\n",
       "  <th>cmun</th>  <td>   -0.3090</td> <td>    0.032</td> <td>   -9.579</td> <td> 0.000</td> <td>   -0.372</td> <td>   -0.246</td>\n",
       "</tr>\n",
       "</table>\n",
       "<table class=\"simpletable\">\n",
       "<tr>\n",
       "  <th>Omnibus:</th>       <td>10472.870</td> <th>  Durbin-Watson:     </th> <td>   1.214</td> \n",
       "</tr>\n",
       "<tr>\n",
       "  <th>Prob(Omnibus):</th>  <td> 0.000</td>   <th>  Jarque-Bera (JB):  </th> <td>76200.341</td>\n",
       "</tr>\n",
       "<tr>\n",
       "  <th>Skew:</th>           <td> 1.209</td>   <th>  Prob(JB):          </th> <td>    0.00</td> \n",
       "</tr>\n",
       "<tr>\n",
       "  <th>Kurtosis:</th>       <td> 9.714</td>   <th>  Cond. No.          </th> <td>    200.</td> \n",
       "</tr>\n",
       "</table>"
      ],
      "text/plain": [
       "<class 'statsmodels.iolib.summary.Summary'>\n",
       "\"\"\"\n",
       "                            OLS Regression Results                            \n",
       "==============================================================================\n",
       "Dep. Variable:                   t1_1   R-squared:                       0.003\n",
       "Model:                            OLS   Adj. R-squared:                  0.003\n",
       "Method:                 Least Squares   F-statistic:                     91.75\n",
       "Date:                Tue, 15 May 2018   Prob (F-statistic):           1.04e-21\n",
       "Time:                        19:25:30   Log-Likelihood:            -2.8798e+05\n",
       "No. Observations:               35917   AIC:                         5.760e+05\n",
       "Df Residuals:                   35915   BIC:                         5.760e+05\n",
       "Df Model:                           1                                         \n",
       "Covariance Type:            nonrobust                                         \n",
       "==============================================================================\n",
       "                 coef    std err          t      P>|t|      [0.025      0.975]\n",
       "------------------------------------------------------------------------------\n",
       "const       1326.9790      4.998    265.510      0.000    1317.183    1336.775\n",
       "cmun          -0.3090      0.032     -9.579      0.000      -0.372      -0.246\n",
       "==============================================================================\n",
       "Omnibus:                    10472.870   Durbin-Watson:                   1.214\n",
       "Prob(Omnibus):                  0.000   Jarque-Bera (JB):            76200.341\n",
       "Skew:                           1.209   Prob(JB):                         0.00\n",
       "Kurtosis:                       9.714   Cond. No.                         200.\n",
       "==============================================================================\n",
       "\n",
       "Warnings:\n",
       "[1] Standard Errors assume that the covariance matrix of the errors is correctly specified.\n",
       "\"\"\""
      ]
     },
     "execution_count": 4,
     "metadata": {},
     "output_type": "execute_result"
    }
   ],
   "source": [
    "import statsmodels.api as sm\n",
    "from pandas.core import datetools\n",
    "\n",
    "\n",
    "X = frame[\"cmun\"]\n",
    "y = frame[\"t1_1\"]\n",
    "X = sm.add_constant(X) ## let's add an intercept (beta_0) to our model\n",
    "\n",
    "# Note the difference in argument order\n",
    "model = sm.OLS(y, X).fit()\n",
    "predictions = model.predict(X) # make the predictions by the model\n",
    "\n",
    "# Print out the statistics\n",
    "model.summary()"
   ]
  },
  {
   "cell_type": "code",
   "execution_count": 5,
   "metadata": {},
   "outputs": [],
   "source": [
    "from sklearn import datasets\n",
    "iris = datasets.load_iris()\n",
    "digits = datasets.load_digits()"
   ]
  },
  {
   "cell_type": "code",
   "execution_count": 11,
   "metadata": {},
   "outputs": [],
   "source": [
    "from sklearn import svm\n",
    "clf = svm.SVC(gamma=0.001, C=100.)"
   ]
  },
  {
   "cell_type": "code",
   "execution_count": 12,
   "metadata": {},
   "outputs": [
    {
     "data": {
      "text/plain": [
       "SVC(C=100.0, cache_size=200, class_weight=None, coef0=0.0,\n",
       "  decision_function_shape='ovr', degree=3, gamma=0.001, kernel='rbf',\n",
       "  max_iter=-1, probability=False, random_state=None, shrinking=True,\n",
       "  tol=0.001, verbose=False)"
      ]
     },
     "execution_count": 12,
     "metadata": {},
     "output_type": "execute_result"
    }
   ],
   "source": [
    "clf.fit(digits.data[:-1], digits.target[:-1])  #the [:-1] Python syntax, which produces a new array that contains all but the last entry of digits.data\n"
   ]
  },
  {
   "cell_type": "code",
   "execution_count": 31,
   "metadata": {},
   "outputs": [
    {
     "data": {
      "text/plain": [
       "array([8])"
      ]
     },
     "execution_count": 31,
     "metadata": {},
     "output_type": "execute_result"
    }
   ],
   "source": [
    "clf.predict(digits.data[-1:])\n"
   ]
  },
  {
   "cell_type": "code",
   "execution_count": 29,
   "metadata": {},
   "outputs": [
    {
     "data": {
      "image/png": "[encoded data removed]",
      "text/plain": [
       "<matplotlib.figure.Figure at 0x121288c88>"
      ]
     },
     "metadata": {},
     "output_type": "display_data"
    }
   ],
   "source": [
    "import matplotlib.pyplot as plt \n",
    "\n",
    "plt.figure(1)\n",
    "plt.subplot(211)\n",
    "plt.imshow(digits.images[8], cmap=plt.cm.gray_r) \n",
    "\n",
    "plt.subplot(212)\n",
    "plt.imshow(digits.images[1], cmap=plt.cm.gray_r) \n",
    "plt.show()\n"
   ]
  },
  {
   "cell_type": "code",
   "execution_count": 48,
   "metadata": {},
   "outputs": [
    {
     "data": {
      "text/plain": [
       "<matplotlib.image.AxesImage at 0x12c2545f8>"
      ]
     },
     "execution_count": 48,
     "metadata": {},
     "output_type": "execute_result"
    },
    {
     "data": {
      "image/png": "[encoded data removed]",
      "text/plain": [
       "<matplotlib.figure.Figure at 0x12c1430f0>"
      ]
     },
     "metadata": {},
     "output_type": "display_data"
    }
   ],
   "source": [
    "plt.imshow(digits.images[1796], cmap=plt.cm.cubehelix) \n"
   ]
  },
  {
   "cell_type": "code",
   "execution_count": 43,
   "metadata": {},
   "outputs": [
    {
     "data": {
      "image/png": "[encoded data removed]",
      "text/plain": [
       "<matplotlib.figure.Figure at 0x12326dbe0>"
      ]
     },
     "metadata": {},
     "output_type": "display_data"
    }
   ],
   "source": [
    "plt.figure(1)\n",
    "plt.subplot(211)\n",
    "plt.imshow(digits.images[1796], cmap=plt.cm.gray_r) \n",
    "\n",
    "plt.subplot(212)\n",
    "plt.imshow(digits.images[-1], cmap=plt.cm.gray_r) \n",
    "plt.show()\n"
   ]
  },
  {
   "cell_type": "code",
   "execution_count": 44,
   "metadata": {},
   "outputs": [],
   "source": [
    "data = digits.images.reshape((digits.images.shape[0], -1))"
   ]
  },
  {
   "cell_type": "code",
   "execution_count": 52,
   "metadata": {},
   "outputs": [
    {
     "data": {
      "text/plain": [
       "array([0, 1, 2])"
      ]
     },
     "execution_count": 52,
     "metadata": {},
     "output_type": "execute_result"
    }
   ],
   "source": [
    "import numpy as np\n",
    "from sklearn import datasets\n",
    "iris = datasets.load_iris()\n",
    "iris_X = iris.data\n",
    "iris_y = iris.target\n",
    "np.unique(iris_y)\n"
   ]
  },
  {
   "cell_type": "code",
   "execution_count": null,
   "metadata": {},
   "outputs": [],
   "source": []
  }
 ],
 "metadata": {
  "kernelspec": {
   "display_name": "Python 3",
   "language": "python",
   "name": "python3"
  },
  "language_info": {
   "codemirror_mode": {
    "name": "ipython",
    "version": 3
   },
   "file_extension": ".py",
   "mimetype": "text/x-python",
   "name": "python",
   "nbconvert_exporter": "python",
   "pygments_lexer": "ipython3",
   "version": "3.6.3"
  }
 },
 "nbformat": 4,
 "nbformat_minor": 2
}
